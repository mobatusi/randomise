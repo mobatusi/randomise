{
 "cells": [
  {
   "cell_type": "code",
   "execution_count": 1,
   "metadata": {
    "collapsed": false,
    "deletable": true,
    "editable": true
   },
   "outputs": [
    {
     "data": {
      "application/javascript": [
       "IPython.notebook.set_autosave_interval(0)"
      ]
     },
     "metadata": {},
     "output_type": "display_data"
    },
    {
     "name": "stdout",
     "output_type": "stream",
     "text": [
      "Autosave disabled\n"
     ]
    }
   ],
   "source": [
    "%autosave 0\n",
    "#!/usr/bin/env python\n",
    "import argparse\n",
    "import os\n",
    "import sys\n",
    "import pandas as pd\n",
    "import patsy\n",
    "import json\n",
    "import numpy as np\n",
    "from create_flame_model_files import create_flame_model_files\n",
    "__version__ = 0.1"
   ]
  },
  {
   "cell_type": "markdown",
   "metadata": {
    "deletable": true,
    "editable": true
   },
   "source": [
    "1. 'bids_dir', 'The directory with the input dataset           'formatted according to the BIDS standard.'\n",
    "2. 'output_dir', 'The directory where the output files '        'should be stored. If you are running group level analysis '   'this folder should be prepopulated with the results of the'  'participant level analysis.'\n",
    "3. 'working_dir', 'The directory where intermediary files '          'are stored while working on them.'\n",
    "4. 'analysis_level', 'Level of the analysis that will be performed.  'Multiple participant level analyses can be run independently '     '(in parallel using the same output_dir. Use test_model to         'the model and contrast files, but not run the anlaysis.',         choices=['participant', 'group', 'test_model']\n",
    "5. 'model_file', 'JSON file describing the model and contrasts'  'that should be.'\n",
    "'--num_iterations', 'Number of iterations used by randomise.',      default=10000, type=int\n",
    "'--num_processors', 'Number of processors used at a time for randomise',default=1, type=int'-v', '--version', action='version', version='BIDS-App example version {}'.format(__version__)\n"
   ]
  },
  {
   "cell_type": "code",
   "execution_count": 21,
   "metadata": {
    "collapsed": true,
    "deletable": true,
    "editable": true
   },
   "outputs": [],
   "source": [
    "in_model_file = '/home/jovyan/work/test_data/IBA_TRT/model.json'\n",
    "in_bids_dir =  '/home/jovyan/work/test_data/IBA_TRT/'\n",
    "model_files_outdir = '/home/jovyan/work/test_data/'"
   ]
  },
  {
   "cell_type": "code",
   "execution_count": 4,
   "metadata": {
    "collapsed": false,
    "deletable": true,
    "editable": true
   },
   "outputs": [
    {
     "data": {
      "text/plain": [
       "'/home/jovyan/work'"
      ]
     },
     "execution_count": 4,
     "metadata": {},
     "output_type": "execute_result"
    }
   ],
   "source": [
    "pwd"
   ]
  },
  {
   "cell_type": "code",
   "execution_count": 5,
   "metadata": {
    "collapsed": true,
    "deletable": true,
    "editable": true
   },
   "outputs": [],
   "source": [
    "# load in the model\n",
    "with open(in_model_file) as model_fd:\n",
    "     model_dict = json.load(model_fd)"
   ]
  },
  {
   "cell_type": "code",
   "execution_count": 6,
   "metadata": {
    "collapsed": true,
    "deletable": true,
    "editable": true
   },
   "outputs": [],
   "source": [
    "# parse the model string to determine which columns of the pheno\n",
    "    # file we are interested in\n",
    "in_columns = model_dict[\"model\"].replace(\"-1\", \"\").replace(\"-\", \"+\").split(\"+\")\n",
    "t_columns = []\n",
    "for column in in_columns:\n",
    "    if '*' in column:\n",
    "            t_columns += column.split(\"*\")\n",
    "    else:\n",
    "            t_columns.append(column)\n",
    "    in_columns = list(set(t_columns))"
   ]
  },
  {
   "cell_type": "code",
   "execution_count": 7,
   "metadata": {
    "collapsed": true,
    "deletable": true,
    "editable": true
   },
   "outputs": [],
   "source": [
    "# read in the pheno file\n",
    "pheno_df = pd.read_csv(os.path.join(in_bids_dir,'participants.tsv'), sep='\\t')\n",
    "\n",
    "# reduce the file to just the columns that we are interested in\n",
    "#heno_df = pheno_df[['participant_id'] + in_columns]\n",
    "pheno_df = pheno_df[['sub'] + in_columns]\n",
    "\n",
    "# remove rows that have empty elements\n",
    "pheno_df = pheno_df.dropna()"
   ]
  },
  {
   "cell_type": "code",
   "execution_count": 8,
   "metadata": {
    "collapsed": false,
    "deletable": true,
    "editable": true
   },
   "outputs": [
    {
     "data": {
      "text/html": [
       "<div>\n",
       "<table border=\"1\" class=\"dataframe\">\n",
       "  <thead>\n",
       "    <tr style=\"text-align: right;\">\n",
       "      <th></th>\n",
       "      <th>sub</th>\n",
       "      <th>age</th>\n",
       "      <th>sex</th>\n",
       "    </tr>\n",
       "  </thead>\n",
       "  <tbody>\n",
       "    <tr>\n",
       "      <th>45</th>\n",
       "      <td>sub-27255</td>\n",
       "      <td>22</td>\n",
       "      <td>M</td>\n",
       "    </tr>\n",
       "    <tr>\n",
       "      <th>46</th>\n",
       "      <td>sub-27256</td>\n",
       "      <td>33</td>\n",
       "      <td>F</td>\n",
       "    </tr>\n",
       "    <tr>\n",
       "      <th>47</th>\n",
       "      <td>sub-27256</td>\n",
       "      <td>33</td>\n",
       "      <td>F</td>\n",
       "    </tr>\n",
       "    <tr>\n",
       "      <th>48</th>\n",
       "      <td>sub-27257</td>\n",
       "      <td>40</td>\n",
       "      <td>M</td>\n",
       "    </tr>\n",
       "    <tr>\n",
       "      <th>49</th>\n",
       "      <td>sub-27258</td>\n",
       "      <td>21</td>\n",
       "      <td>F</td>\n",
       "    </tr>\n",
       "  </tbody>\n",
       "</table>\n",
       "</div>"
      ],
      "text/plain": [
       "          sub  age sex\n",
       "45  sub-27255   22   M\n",
       "46  sub-27256   33   F\n",
       "47  sub-27256   33   F\n",
       "48  sub-27257   40   M\n",
       "49  sub-27258   21   F"
      ]
     },
     "execution_count": 8,
     "metadata": {},
     "output_type": "execute_result"
    }
   ],
   "source": [
    "pheno_df.tail()"
   ]
  },
  {
   "cell_type": "code",
   "execution_count": 9,
   "metadata": {
    "collapsed": true,
    "deletable": true,
    "editable": true
   },
   "outputs": [],
   "source": [
    "%%capture\n",
    "# go through data, verify that we can find a corresponding entry in\n",
    "# the pheno file, and keep track of the indices so that we can\n",
    "    # reorder the pheno to correspond\n",
    "t_file_list = []\n",
    "pheno_key_list = []\n",
    "\n",
    "for root, dirs, files in os.walk(in_bids_dir):\n",
    "    for filename in files:\n",
    "    \n",
    "        if not filename.endswith(\".nii.gz\"):\n",
    "            continue\n",
    "\n",
    "        # make a dictionary from the key-value chunks\n",
    "        f_chunks = (filename.split(\".\")[0]).split(\"_\")\n",
    "        f_dict = {chunk.split(\"-\")[0]: \"-\".join(chunk.split(\"-\")[1:]) for chunk in f_chunks[:-1]}\n",
    "        \n",
    "        if not f_dict['ses']:\n",
    "            f_dict['ses'] = '1'\n",
    "        x = np.array(f_dict['sub'], dtype='|S7')\n",
    "        y = x.astype(np.int)\n",
    "        y = str(y)\n",
    "        f_participant_id = \"_\".join([\"-\".join([\"sub\", y]), \"-\".join([\"ses\", f_dict[\"ses\"]])])\n",
    "        \n",
    "        # find the row of the pheno_df that corresponds to the file and save it to pheno_key_list\n",
    "        participant_index = [index for index, file_id in enumerate(pheno_df[\"sub\"])\n",
    "                                 if file_id in f_participant_id]\n",
    "        if len(participant_index) == 0:\n",
    "            print(\"Could not find entry in phenotype file for {0}, dropping it.\".format(\n",
    "                    os.path.join(root, filename)))\n",
    "        elif len(participant_index) > 0:      \n",
    "        \n",
    "            pheno_key_list.append(participant_index[0])\n",
    "            t_file_list.append(os.path.join(root, filename))\n",
    "        else:\n",
    "            raise ValueError(\"Found multiple entries for {0} in {1}\", f_participant_id,\n",
    "                                 os.path.join(in_bids_dir, 'participants.tsv'))"
   ]
  },
  {
   "cell_type": "code",
   "execution_count": 10,
   "metadata": {
    "collapsed": false,
    "deletable": true,
    "editable": true
   },
   "outputs": [
    {
     "data": {
      "text/html": [
       "<div>\n",
       "<table border=\"1\" class=\"dataframe\">\n",
       "  <thead>\n",
       "    <tr style=\"text-align: right;\">\n",
       "      <th></th>\n",
       "      <th>sub</th>\n",
       "      <th>age</th>\n",
       "      <th>sex</th>\n",
       "    </tr>\n",
       "  </thead>\n",
       "  <tbody>\n",
       "    <tr>\n",
       "      <th>0</th>\n",
       "      <td>sub-27223</td>\n",
       "      <td>20</td>\n",
       "      <td>M</td>\n",
       "    </tr>\n",
       "    <tr>\n",
       "      <th>1</th>\n",
       "      <td>sub-27224</td>\n",
       "      <td>40</td>\n",
       "      <td>F</td>\n",
       "    </tr>\n",
       "    <tr>\n",
       "      <th>2</th>\n",
       "      <td>sub-27224</td>\n",
       "      <td>40</td>\n",
       "      <td>F</td>\n",
       "    </tr>\n",
       "    <tr>\n",
       "      <th>3</th>\n",
       "      <td>sub-27225</td>\n",
       "      <td>26</td>\n",
       "      <td>M</td>\n",
       "    </tr>\n",
       "    <tr>\n",
       "      <th>4</th>\n",
       "      <td>sub-27225</td>\n",
       "      <td>26</td>\n",
       "      <td>M</td>\n",
       "    </tr>\n",
       "  </tbody>\n",
       "</table>\n",
       "</div>"
      ],
      "text/plain": [
       "         sub  age sex\n",
       "0  sub-27223   20   M\n",
       "1  sub-27224   40   F\n",
       "2  sub-27224   40   F\n",
       "3  sub-27225   26   M\n",
       "4  sub-27225   26   M"
      ]
     },
     "execution_count": 10,
     "metadata": {},
     "output_type": "execute_result"
    }
   ],
   "source": [
    "pheno_df.head()"
   ]
  },
  {
   "cell_type": "code",
   "execution_count": 11,
   "metadata": {
    "collapsed": false,
    "deletable": true,
    "editable": true
   },
   "outputs": [
    {
     "name": "stdout",
     "output_type": "stream",
     "text": [
      "199 rows in design matrix\n",
      "Model terms: Intercept, sex[T.M], age\n"
     ]
    }
   ],
   "source": [
    "# now create the design.mat file\n",
    "\n",
    "# remove participant_id column\n",
    "pheno_df = pheno_df[in_columns]\n",
    "\n",
    "# reduce to the rows that we are using, and reorder to match the file list\n",
    "pheno_df = pheno_df.iloc[pheno_key_list, :]\n",
    "\n",
    "print (\"{0} rows in design matrix\".format(len(pheno_df.index)))\n",
    "\n",
    "# de-mean all numeric columns, we expect categorical variables to be encoded with strings\n",
    "for df_ndx in pheno_df.columns:\n",
    "    if np.issubdtype(pheno_df[df_ndx].dtype, np.number):\n",
    "        pheno_df[df_ndx] -= pheno_df[df_ndx].mean()\n",
    "\n",
    "# use patsy to create the design matrix\n",
    "design = patsy.dmatrix(model_dict[\"model\"], pheno_df, NA_action='raise')\n",
    "column_names = design.design_info.column_names\n",
    "\n",
    "print('Model terms: {0}'.format(', '.join(column_names)))"
   ]
  },
  {
   "cell_type": "code",
   "execution_count": null,
   "metadata": {
    "collapsed": true,
    "deletable": true,
    "editable": true
   },
   "outputs": [],
   "source": [
    "create_flame_model_files()"
   ]
  },
  {
   "cell_type": "code",
   "execution_count": 25,
   "metadata": {
    "collapsed": false,
    "deletable": true,
    "editable": true
   },
   "outputs": [
    {
     "ename": "TypeError",
     "evalue": "Mismatch between array dtype ('float64') and format specifier ('%1.5e\t%1.5e\t%1.5e')",
     "output_type": "error",
     "traceback": [
      "\u001b[0;31m---------------------------------------------------------------------------\u001b[0m",
      "\u001b[0;31mTypeError\u001b[0m                                 Traceback (most recent call last)",
      "\u001b[0;32m/opt/conda/lib/python3.5/site-packages/numpy/lib/npyio.py\u001b[0m in \u001b[0;36msavetxt\u001b[0;34m(fname, X, fmt, delimiter, newline, header, footer, comments)\u001b[0m\n\u001b[1;32m   1157\u001b[0m                 \u001b[0;32mtry\u001b[0m\u001b[0;34m:\u001b[0m\u001b[0;34m\u001b[0m\u001b[0m\n\u001b[0;32m-> 1158\u001b[0;31m                     \u001b[0mfh\u001b[0m\u001b[0;34m.\u001b[0m\u001b[0mwrite\u001b[0m\u001b[0;34m(\u001b[0m\u001b[0masbytes\u001b[0m\u001b[0;34m(\u001b[0m\u001b[0mformat\u001b[0m \u001b[0;34m%\u001b[0m \u001b[0mtuple\u001b[0m\u001b[0;34m(\u001b[0m\u001b[0mrow\u001b[0m\u001b[0;34m)\u001b[0m \u001b[0;34m+\u001b[0m \u001b[0mnewline\u001b[0m\u001b[0;34m)\u001b[0m\u001b[0;34m)\u001b[0m\u001b[0;34m\u001b[0m\u001b[0m\n\u001b[0m\u001b[1;32m   1159\u001b[0m                 \u001b[0;32mexcept\u001b[0m \u001b[0mTypeError\u001b[0m\u001b[0;34m:\u001b[0m\u001b[0;34m\u001b[0m\u001b[0m\n",
      "\u001b[0;31mTypeError\u001b[0m: write() argument must be str, not bytes",
      "\nDuring handling of the above exception, another exception occurred:\n",
      "\u001b[0;31mTypeError\u001b[0m                                 Traceback (most recent call last)",
      "\u001b[0;32m<ipython-input-25-3640da8fa863>\u001b[0m in \u001b[0;36m<module>\u001b[0;34m()\u001b[0m\n\u001b[1;32m     23\u001b[0m                                                                               \u001b[0;34m\"Treatment\"\u001b[0m\u001b[0;34m,\u001b[0m\u001b[0;34m\u001b[0m\u001b[0m\n\u001b[1;32m     24\u001b[0m                                                                               \u001b[0;34m\"randomise_pipe_model\"\u001b[0m\u001b[0;34m,\u001b[0m\u001b[0;34m\u001b[0m\u001b[0m\n\u001b[0;32m---> 25\u001b[0;31m                                                                               [], \"/home/jovyan/work/test_data/\")\n\u001b[0m\u001b[1;32m     26\u001b[0m \u001b[0;34m\u001b[0m\u001b[0m\n\u001b[1;32m     27\u001b[0m \u001b[0;31m#return t_file_list, t_num_contrasts, t_mat_file, t_con_file\u001b[0m\u001b[0;34m\u001b[0m\u001b[0;34m\u001b[0m\u001b[0m\n",
      "\u001b[0;32m/home/jovyan/work/create_flame_model_files.py\u001b[0m in \u001b[0;36mcreate_flame_model_files\u001b[0;34m(design_matrix, col_names, contrasts_dict, custom_contrasts_csv, ftest_list, group_sep, grouping_vector, coding_scheme, model_name, output_measure, output_dir)\u001b[0m\n\u001b[1;32m    392\u001b[0m \u001b[0;34m\u001b[0m\u001b[0m\n\u001b[1;32m    393\u001b[0m     mat_file = write_mat_file(design_matrix, output_dir, model_name, \\\n\u001b[0;32m--> 394\u001b[0;31m         col_names, output_measure)\n\u001b[0m\u001b[1;32m    395\u001b[0m \u001b[0;34m\u001b[0m\u001b[0m\n\u001b[1;32m    396\u001b[0m     grp_file = create_grp_file(design_matrix, grouping_vector, output_dir, \\\n",
      "\u001b[0;32m/home/jovyan/work/create_flame_model_files.py\u001b[0m in \u001b[0;36mwrite_mat_file\u001b[0;34m(design_matrix, output_dir, model_name, depatsified_EV_names, current_output)\u001b[0m\n\u001b[1;32m     60\u001b[0m         \u001b[0mprint\u001b[0m \u001b[0;34m(\u001b[0m\u001b[0mf\u001b[0m\u001b[0;34m,\u001b[0m \u001b[0;34m'/Matrix'\u001b[0m\u001b[0;34m)\u001b[0m\u001b[0;34m\u001b[0m\u001b[0m\n\u001b[1;32m     61\u001b[0m \u001b[0;34m\u001b[0m\u001b[0m\n\u001b[0;32m---> 62\u001b[0;31m         \u001b[0mnp\u001b[0m\u001b[0;34m.\u001b[0m\u001b[0msavetxt\u001b[0m\u001b[0;34m(\u001b[0m\u001b[0mf\u001b[0m\u001b[0;34m,\u001b[0m \u001b[0mdesign_matrix\u001b[0m\u001b[0;34m,\u001b[0m \u001b[0mfmt\u001b[0m\u001b[0;34m=\u001b[0m\u001b[0;34m'%1.5e'\u001b[0m\u001b[0;34m,\u001b[0m \u001b[0mdelimiter\u001b[0m\u001b[0;34m=\u001b[0m\u001b[0;34m'\\t'\u001b[0m\u001b[0;34m)\u001b[0m\u001b[0;34m\u001b[0m\u001b[0m\n\u001b[0m\u001b[1;32m     63\u001b[0m \u001b[0;34m\u001b[0m\u001b[0m\n\u001b[1;32m     64\u001b[0m     \u001b[0;32mreturn\u001b[0m \u001b[0mout_file\u001b[0m\u001b[0;34m\u001b[0m\u001b[0m\n",
      "\u001b[0;32m/opt/conda/lib/python3.5/site-packages/numpy/lib/npyio.py\u001b[0m in \u001b[0;36msavetxt\u001b[0;34m(fname, X, fmt, delimiter, newline, header, footer, comments)\u001b[0m\n\u001b[1;32m   1160\u001b[0m                     raise TypeError(\"Mismatch between array dtype ('%s') and \"\n\u001b[1;32m   1161\u001b[0m                                     \u001b[0;34m\"format specifier ('%s')\"\u001b[0m\u001b[0;34m\u001b[0m\u001b[0m\n\u001b[0;32m-> 1162\u001b[0;31m                                     % (str(X.dtype), format))\n\u001b[0m\u001b[1;32m   1163\u001b[0m         \u001b[0;32mif\u001b[0m \u001b[0mlen\u001b[0m\u001b[0;34m(\u001b[0m\u001b[0mfooter\u001b[0m\u001b[0;34m)\u001b[0m \u001b[0;34m>\u001b[0m \u001b[0;36m0\u001b[0m\u001b[0;34m:\u001b[0m\u001b[0;34m\u001b[0m\u001b[0m\n\u001b[1;32m   1164\u001b[0m             \u001b[0mfooter\u001b[0m \u001b[0;34m=\u001b[0m \u001b[0mfooter\u001b[0m\u001b[0;34m.\u001b[0m\u001b[0mreplace\u001b[0m\u001b[0;34m(\u001b[0m\u001b[0;34m'\\n'\u001b[0m\u001b[0;34m,\u001b[0m \u001b[0;34m'\\n'\u001b[0m \u001b[0;34m+\u001b[0m \u001b[0mcomments\u001b[0m\u001b[0;34m)\u001b[0m\u001b[0;34m\u001b[0m\u001b[0m\n",
      "\u001b[0;31mTypeError\u001b[0m: Mismatch between array dtype ('float64') and format specifier ('%1.5e\t%1.5e\t%1.5e')"
     ]
    }
   ],
   "source": [
    "%%capture \n",
    "# create contrasts\n",
    "if model_dict[\"contrasts\"]:\n",
    "    contrast_dict = {}\n",
    "    t_num_contrasts = 0\n",
    "\n",
    "    for k in model_dict[\"contrasts\"]:\n",
    "        t_num_contrasts += 1\n",
    "        try:\n",
    "            contrast_dict[k] = [n if n != -0 else 0\n",
    "                                for n in design.design_info.linear_constraint(k).coefs[0]]\n",
    "        except patsy.PatsyError as e:\n",
    "            if 'token' in e.message:\n",
    "                print(\"A token in contrast \\'{0}\\' could not be found, should only include tokens from {1}\".format(\n",
    "                        k, ','.join(column_names)))\n",
    "            raise\n",
    "else:\n",
    "     raise ValueError('Model file {0} is missing contrasts'.format(model_file))\n",
    "\n",
    "num_subjects = len(t_file_list)\n",
    "t_mat_file, t_grp_file, t_con_file, t_fts_file = create_flame_model_files(design, column_names,\n",
    "                                                                              contrast_dict, None, [],\n",
    "                                                                              None, [1] * num_subjects,\n",
    "                                                                              \"Treatment\",\n",
    "                                                                              \"randomise_pipe_model\",\n",
    "                                                                              [], \"/home/jovyan/work/test_data/\")\n",
    "\n",
    "#return t_file_list, t_num_contrasts, t_mat_file, t_con_file"
   ]
  },
  {
   "cell_type": "code",
   "execution_count": null,
   "metadata": {
    "collapsed": true,
    "deletable": true,
    "editable": true
   },
   "outputs": [],
   "source": []
  },
  {
   "cell_type": "code",
   "execution_count": null,
   "metadata": {
    "collapsed": true,
    "deletable": true,
    "editable": true
   },
   "outputs": [],
   "source": [
    "create_flame_model_files()"
   ]
  },
  {
   "cell_type": "code",
   "execution_count": null,
   "metadata": {
    "collapsed": true,
    "deletable": true,
    "editable": true
   },
   "outputs": [],
   "source": [
    "create_flame_model_files(design, column_names, contrast_dict, None, [], None, [1] * num_subjects,\n",
    "                                                                              \"Treatment\",\n",
    "                                                                              \"randomise_pipe_model\",\n",
    "                                                                              [], model_files_outdir)\n"
   ]
  },
  {
   "cell_type": "code",
   "execution_count": null,
   "metadata": {
    "collapsed": true,
    "deletable": true,
    "editable": true
   },
   "outputs": [],
   "source": [
    "test = {\"contrasts\": [\"+age\", \"-age\", \"sex[T.M]\", \"sex[T.F]\"], \"model\": \"sex+age\"}\n"
   ]
  },
  {
   "cell_type": "code",
   "execution_count": null,
   "metadata": {
    "collapsed": true,
    "deletable": true,
    "editable": true
   },
   "outputs": [],
   "source": [
    "test = \"sex[T.M]\".encode('ascii')"
   ]
  },
  {
   "cell_type": "code",
   "execution_count": null,
   "metadata": {
    "collapsed": true,
    "deletable": true,
    "editable": true
   },
   "outputs": [],
   "source": [
    "type(test)"
   ]
  },
  {
   "cell_type": "code",
   "execution_count": null,
   "metadata": {
    "collapsed": true,
    "deletable": true,
    "editable": true
   },
   "outputs": [],
   "source": [
    "design.design_info.linear_constraint"
   ]
  }
 ],
 "metadata": {
  "anaconda-cloud": {},
  "kernelspec": {
   "display_name": "Python 3",
   "language": "python",
   "name": "python3"
  },
  "language_info": {
   "codemirror_mode": {
    "name": "ipython",
    "version": 3
   },
   "file_extension": ".py",
   "mimetype": "text/x-python",
   "name": "python",
   "nbconvert_exporter": "python",
   "pygments_lexer": "ipython3",
   "version": "3.5.2"
  }
 },
 "nbformat": 4,
 "nbformat_minor": 2
}
